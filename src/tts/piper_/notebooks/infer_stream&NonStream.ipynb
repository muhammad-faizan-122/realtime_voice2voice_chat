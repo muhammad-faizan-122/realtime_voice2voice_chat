{
 "cells": [
  {
   "cell_type": "code",
   "execution_count": null,
   "id": "71a97088",
   "metadata": {},
   "outputs": [],
   "source": [
    "# code without streaming\n",
    "\n",
    "import wave\n",
    "from piper import PiperVoice, SynthesisConfig\n",
    "\n",
    "voice = PiperVoice.load(\"en_US-lessac-medium.onnx\")\n",
    "\n",
    "text = \"\"\"Large Language Models (LLMs) are artificial intelligence models that can generate human-like text based on the input they receive. These models use deep learning techniques and are designed to be highly accurate and adaptable. LLMs are often used in various applications such as chatbots, virtual assistants, machine translation, and more. They can understand natural language and generate coherent and contextually appropriate responses, making them a valuable tool for businesses and individuals seeking to automate tasks or provide information.\"\"\"\n",
    "\n",
    "text = \"hello world, I am TTS\"\n",
    "syn_config = SynthesisConfig(\n",
    "    volume=1.0,  # half as loud\n",
    "    length_scale=1.0,  # twice as slow\n",
    "    noise_scale=1.0,  # more audio variation\n",
    "    noise_w_scale=1.0,  # more speaking variation\n",
    "    normalize_audio=False, # use raw audio from voice\n",
    ")\n",
    "with wave.open(\"test.wav\", \"wb\") as wav_file:\n",
    "    voice.synthesize_wav(text, wav_file, syn_config=syn_config)"
   ]
  },
  {
   "cell_type": "code",
   "execution_count": null,
   "id": "4b974a42",
   "metadata": {},
   "outputs": [
    {
     "name": "stdout",
     "output_type": "stream",
     "text": [
      "text_chunk:  Large Language Models (LLMs) are artificial intelligence models that can generate human-like text based on the input they receive. These models use deep learning techniques and\n",
      "text_chunk:  are designed to be highly accurate and adaptable. LLMs are often used in various applications such as chatbots, virtual assistants, machine translation, and more. They can\n",
      "text_chunk:  understand natural language and generate coherent and contextually appropriate responses, making them a valuable tool for businesses and individuals seeking to automate tasks or provide information.\n"
     ]
    }
   ],
   "source": [
    "# code with streaming\n",
    "import soundfile as sf\n",
    "\n",
    "\n",
    "text = \"\"\"Large Language Models (LLMs) are artificial intelligence models that can generate human-like text based on the input they receive. These models use deep learning techniques and are designed to be highly accurate and adaptable. LLMs are often used in various applications such as chatbots, virtual assistants, machine translation, and more. They can understand natural language and generate coherent and contextually appropriate responses, making them a valuable tool for businesses and individuals seeking to automate tasks or provide information.\"\"\"\n",
    "words = text.split()\n",
    "words_window_sz = len(words)//3\n",
    "\n",
    "for i in range(0, len(words), words_window_sz):\n",
    "    text_chunk = \" \".join(words[i: i + words_window_sz])\n",
    "\n",
    "    print(\"text_chunk: \", text_chunk)\n",
    "    stream_chunks = []\n",
    "    for chunk_i, audio_chunk in enumerate(voice.synthesize(text_chunk, syn_config=syn_config)):\n",
    "        # print(audio_chunk.sample_rate, audio_chunk.audio_float_array)\n",
    "        # print(audio_chunk)\n",
    "        stream_chunks.extend(audio_chunk.audio_float_array)\n",
    "        # print(len(audio_chunk.audio_float_array), type(audio_chunk.audio_float_array))\n",
    "    \n",
    "    sf.write(f'stream_audios/{i}.wav', stream_chunks, audio_chunk.sample_rate)"
   ]
  }
 ],
 "metadata": {
  "kernelspec": {
   "display_name": "qa_agent",
   "language": "python",
   "name": "python3"
  },
  "language_info": {
   "codemirror_mode": {
    "name": "ipython",
    "version": 3
   },
   "file_extension": ".py",
   "mimetype": "text/x-python",
   "name": "python",
   "nbconvert_exporter": "python",
   "pygments_lexer": "ipython3",
   "version": "3.10.14"
  }
 },
 "nbformat": 4,
 "nbformat_minor": 5
}
